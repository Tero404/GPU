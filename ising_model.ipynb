{
 "cells": [
  {
   "cell_type": "code",
   "execution_count": 1,
   "metadata": {},
   "outputs": [],
   "source": [
    "import torch\n",
    "import numpy as np\n",
    "import matplotlib.pyplot as plt\n",
    "from torch.nn.functional import conv2d, conv3d\n",
    "from scipy.ndimage import convolve, generate_binary_structure\n",
    "device = torch.device('cuda' if torch.cuda.is_available() else 'cpu')"
   ]
  },
  {
   "cell_type": "markdown",
   "metadata": {},
   "source": [
    "# Required Facts\n",
    "\n",
    "A system in thermal equilibrium with a temperature bath, Probability $p_{μ}$ of being in\n",
    "state $\\mu$ with energy $E_{\\mu}$ is\n",
    "$$p_{mu}= \\frac{1}{Z}e^{-\\beta E_{\\mu}}$$ \n",
    "\n",
    "where $Z = Σ_{\\mu}e^{-\\beta E_{\\mu}}$ is the *patition function*. At equilibrium, the following must be true\n",
    "\n",
    "$$\\sum_{\\nu}{p}_{\\mu}P(\\mu → \\nu) = \\sum_{\\nu}{p}_{\\nu}P(\\nu → \\mu)$$\n",
    "\n",
    "where $P(\\mu → \\nu) $ is the probability of going from state $\\mu$ to state $\\nu$. For our numerical methods,\n",
    "this is difficult to enforce, but we can make it be true stting the *detailed balance condition*\n",
    "$$p_{\\mu}P(\\mu → \\nu) = p_{\\nu}P(\\nu → \\mu)$$\n",
    "This is true when\n",
    "$$\\frac{P(\\mu → \\nu)}{P(\\nu → \\mu} = \\frac{p_\\nu}{p_\\mu}=e^{-\\beta (E_\\nu -E_{\\mu})}"
   ]
  }
 ],
 "metadata": {
  "kernelspec": {
   "display_name": "Python 3",
   "language": "python",
   "name": "python3"
  },
  "language_info": {
   "codemirror_mode": {
    "name": "ipython",
    "version": 3
   },
   "file_extension": ".py",
   "mimetype": "text/x-python",
   "name": "python",
   "nbconvert_exporter": "python",
   "pygments_lexer": "ipython3",
   "version": "3.11.6"
  }
 },
 "nbformat": 4,
 "nbformat_minor": 2
}
